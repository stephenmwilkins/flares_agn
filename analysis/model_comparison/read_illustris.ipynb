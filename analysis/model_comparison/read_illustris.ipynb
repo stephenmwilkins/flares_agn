{
 "cells": [
  {
   "cell_type": "code",
   "execution_count": 1,
   "metadata": {},
   "outputs": [],
   "source": [
    "import illustris_python as il\n",
    "\n"
   ]
  },
  {
   "cell_type": "code",
   "execution_count": 2,
   "metadata": {},
   "outputs": [
    {
     "ename": "FileNotFoundError",
     "evalue": "[Errno 2] Unable to open file (unable to open file: name = '/Users/sw376/Dropbox/Research/data/simulations/illustris/TNG100-1/groups_135/fof_subhalo_tab_135.0.hdf5', errno = 2, error message = 'No such file or directory', flags = 0, o_flags = 0)",
     "output_type": "error",
     "traceback": [
      "\u001b[0;31m---------------------------------------------------------------------------\u001b[0m",
      "\u001b[0;31mFileNotFoundError\u001b[0m                         Traceback (most recent call last)",
      "Cell \u001b[0;32mIn[2], line 4\u001b[0m\n\u001b[1;32m      2\u001b[0m simulation \u001b[39m=\u001b[39m \u001b[39m'\u001b[39m\u001b[39mTNG100-1\u001b[39m\u001b[39m'\u001b[39m\n\u001b[1;32m      3\u001b[0m fields \u001b[39m=\u001b[39m [\u001b[39m'\u001b[39m\u001b[39mSubhaloMass\u001b[39m\u001b[39m'\u001b[39m,\u001b[39m'\u001b[39m\u001b[39mSubhaloSFRinRad\u001b[39m\u001b[39m'\u001b[39m]\n\u001b[0;32m----> 4\u001b[0m subhalos \u001b[39m=\u001b[39m il\u001b[39m.\u001b[39;49mgroupcat\u001b[39m.\u001b[39;49mloadSubhalos(\u001b[39mf\u001b[39;49m\u001b[39m'\u001b[39;49m\u001b[39m{\u001b[39;49;00mdata_dir\u001b[39m}\u001b[39;49;00m\u001b[39m/\u001b[39;49m\u001b[39m{\u001b[39;49;00msimulation\u001b[39m}\u001b[39;49;00m\u001b[39m'\u001b[39;49m,\u001b[39m135\u001b[39;49m,fields\u001b[39m=\u001b[39;49mfields)\n",
      "File \u001b[0;32m~/Dropbox/Research/projects/flares_agn/venv/lib/python3.10/site-packages/illustris_python/groupcat.py:104\u001b[0m, in \u001b[0;36mloadSubhalos\u001b[0;34m(basePath, snapNum, fields)\u001b[0m\n\u001b[1;32m    100\u001b[0m \u001b[39mdef\u001b[39;00m \u001b[39mloadSubhalos\u001b[39m(basePath, snapNum, fields\u001b[39m=\u001b[39m\u001b[39mNone\u001b[39;00m):\n\u001b[1;32m    101\u001b[0m \u001b[39m    \u001b[39m\u001b[39m\"\"\" Load all subhalo information from the entire group catalog for one snapshot\u001b[39;00m\n\u001b[1;32m    102\u001b[0m \u001b[39m       (optionally restrict to a subset given by fields). \"\"\"\u001b[39;00m\n\u001b[0;32m--> 104\u001b[0m     \u001b[39mreturn\u001b[39;00m loadObjects(basePath, snapNum, \u001b[39m\"\u001b[39;49m\u001b[39mSubhalo\u001b[39;49m\u001b[39m\"\u001b[39;49m, \u001b[39m\"\u001b[39;49m\u001b[39msubgroups\u001b[39;49m\u001b[39m\"\u001b[39;49m, fields)\n",
      "File \u001b[0;32m~/Dropbox/Research/projects/flares_agn/venv/lib/python3.10/site-packages/illustris_python/groupcat.py:38\u001b[0m, in \u001b[0;36mloadObjects\u001b[0;34m(basePath, snapNum, gName, nName, fields)\u001b[0m\n\u001b[1;32m     35\u001b[0m     fields \u001b[39m=\u001b[39m [fields]\n\u001b[1;32m     37\u001b[0m \u001b[39m# load header from first chunk\u001b[39;00m\n\u001b[0;32m---> 38\u001b[0m \u001b[39mwith\u001b[39;00m h5py\u001b[39m.\u001b[39;49mFile(gcPath(basePath, snapNum), \u001b[39m'\u001b[39;49m\u001b[39mr\u001b[39;49m\u001b[39m'\u001b[39;49m) \u001b[39mas\u001b[39;00m f:\n\u001b[1;32m     40\u001b[0m     header \u001b[39m=\u001b[39m \u001b[39mdict\u001b[39m(f[\u001b[39m'\u001b[39m\u001b[39mHeader\u001b[39m\u001b[39m'\u001b[39m]\u001b[39m.\u001b[39mattrs\u001b[39m.\u001b[39mitems())\n\u001b[1;32m     42\u001b[0m     \u001b[39mif\u001b[39;00m \u001b[39m'\u001b[39m\u001b[39mN\u001b[39m\u001b[39m'\u001b[39m\u001b[39m+\u001b[39mnName\u001b[39m+\u001b[39m\u001b[39m'\u001b[39m\u001b[39m_Total\u001b[39m\u001b[39m'\u001b[39m \u001b[39mnot\u001b[39;00m \u001b[39min\u001b[39;00m header \u001b[39mand\u001b[39;00m nName \u001b[39m==\u001b[39m \u001b[39m'\u001b[39m\u001b[39msubgroups\u001b[39m\u001b[39m'\u001b[39m:\n",
      "File \u001b[0;32m~/Dropbox/Research/projects/flares_agn/venv/lib/python3.10/site-packages/h5py/_hl/files.py:567\u001b[0m, in \u001b[0;36mFile.__init__\u001b[0;34m(self, name, mode, driver, libver, userblock_size, swmr, rdcc_nslots, rdcc_nbytes, rdcc_w0, track_order, fs_strategy, fs_persist, fs_threshold, fs_page_size, page_buf_size, min_meta_keep, min_raw_keep, locking, alignment_threshold, alignment_interval, meta_block_size, **kwds)\u001b[0m\n\u001b[1;32m    558\u001b[0m     fapl \u001b[39m=\u001b[39m make_fapl(driver, libver, rdcc_nslots, rdcc_nbytes, rdcc_w0,\n\u001b[1;32m    559\u001b[0m                      locking, page_buf_size, min_meta_keep, min_raw_keep,\n\u001b[1;32m    560\u001b[0m                      alignment_threshold\u001b[39m=\u001b[39malignment_threshold,\n\u001b[1;32m    561\u001b[0m                      alignment_interval\u001b[39m=\u001b[39malignment_interval,\n\u001b[1;32m    562\u001b[0m                      meta_block_size\u001b[39m=\u001b[39mmeta_block_size,\n\u001b[1;32m    563\u001b[0m                      \u001b[39m*\u001b[39m\u001b[39m*\u001b[39mkwds)\n\u001b[1;32m    564\u001b[0m     fcpl \u001b[39m=\u001b[39m make_fcpl(track_order\u001b[39m=\u001b[39mtrack_order, fs_strategy\u001b[39m=\u001b[39mfs_strategy,\n\u001b[1;32m    565\u001b[0m                      fs_persist\u001b[39m=\u001b[39mfs_persist, fs_threshold\u001b[39m=\u001b[39mfs_threshold,\n\u001b[1;32m    566\u001b[0m                      fs_page_size\u001b[39m=\u001b[39mfs_page_size)\n\u001b[0;32m--> 567\u001b[0m     fid \u001b[39m=\u001b[39m make_fid(name, mode, userblock_size, fapl, fcpl, swmr\u001b[39m=\u001b[39;49mswmr)\n\u001b[1;32m    569\u001b[0m \u001b[39mif\u001b[39;00m \u001b[39misinstance\u001b[39m(libver, \u001b[39mtuple\u001b[39m):\n\u001b[1;32m    570\u001b[0m     \u001b[39mself\u001b[39m\u001b[39m.\u001b[39m_libver \u001b[39m=\u001b[39m libver\n",
      "File \u001b[0;32m~/Dropbox/Research/projects/flares_agn/venv/lib/python3.10/site-packages/h5py/_hl/files.py:231\u001b[0m, in \u001b[0;36mmake_fid\u001b[0;34m(name, mode, userblock_size, fapl, fcpl, swmr)\u001b[0m\n\u001b[1;32m    229\u001b[0m     \u001b[39mif\u001b[39;00m swmr \u001b[39mand\u001b[39;00m swmr_support:\n\u001b[1;32m    230\u001b[0m         flags \u001b[39m|\u001b[39m\u001b[39m=\u001b[39m h5f\u001b[39m.\u001b[39mACC_SWMR_READ\n\u001b[0;32m--> 231\u001b[0m     fid \u001b[39m=\u001b[39m h5f\u001b[39m.\u001b[39;49mopen(name, flags, fapl\u001b[39m=\u001b[39;49mfapl)\n\u001b[1;32m    232\u001b[0m \u001b[39melif\u001b[39;00m mode \u001b[39m==\u001b[39m \u001b[39m'\u001b[39m\u001b[39mr+\u001b[39m\u001b[39m'\u001b[39m:\n\u001b[1;32m    233\u001b[0m     fid \u001b[39m=\u001b[39m h5f\u001b[39m.\u001b[39mopen(name, h5f\u001b[39m.\u001b[39mACC_RDWR, fapl\u001b[39m=\u001b[39mfapl)\n",
      "File \u001b[0;32mh5py/_objects.pyx:54\u001b[0m, in \u001b[0;36mh5py._objects.with_phil.wrapper\u001b[0;34m()\u001b[0m\n",
      "File \u001b[0;32mh5py/_objects.pyx:55\u001b[0m, in \u001b[0;36mh5py._objects.with_phil.wrapper\u001b[0;34m()\u001b[0m\n",
      "File \u001b[0;32mh5py/h5f.pyx:106\u001b[0m, in \u001b[0;36mh5py.h5f.open\u001b[0;34m()\u001b[0m\n",
      "\u001b[0;31mFileNotFoundError\u001b[0m: [Errno 2] Unable to open file (unable to open file: name = '/Users/sw376/Dropbox/Research/data/simulations/illustris/TNG100-1/groups_135/fof_subhalo_tab_135.0.hdf5', errno = 2, error message = 'No such file or directory', flags = 0, o_flags = 0)"
     ]
    }
   ],
   "source": [
    "\n",
    "data_dir = '/Users/sw376/Dropbox/Research/data/simulations/illustris'\n",
    "simulation = 'TNG100-1'\n",
    "fields = ['SubhaloMass','SubhaloSFRinRad']\n",
    "subhalos = il.groupcat.loadSubhalos(f'{data_dir}/{simulation}',13,fields=fields)"
   ]
  }
 ],
 "metadata": {
  "kernelspec": {
   "display_name": "venv",
   "language": "python",
   "name": "python3"
  },
  "language_info": {
   "codemirror_mode": {
    "name": "ipython",
    "version": 3
   },
   "file_extension": ".py",
   "mimetype": "text/x-python",
   "name": "python",
   "nbconvert_exporter": "python",
   "pygments_lexer": "ipython3",
   "version": "3.10.11"
  },
  "orig_nbformat": 4,
  "vscode": {
   "interpreter": {
    "hash": "44e632a0eb60a09ebb91473abe03c1fa2b4aac73a7a69f5b044aeaad8fcb4ac5"
   }
  }
 },
 "nbformat": 4,
 "nbformat_minor": 2
}
